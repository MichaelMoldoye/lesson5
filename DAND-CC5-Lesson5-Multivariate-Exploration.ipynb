{
 "cells": [
  {
   "cell_type": "markdown",
   "metadata": {},
   "source": [
    "## Exercises following along to Multivariate Visualization Lesson"
   ]
  },
  {
   "cell_type": "code",
   "execution_count": null,
   "metadata": {},
   "outputs": [],
   "source": [
    "import numpy as np\n",
    "import pandas as pd\n",
    "import matplotlib.pyplot as plt\n",
    "import seaborn as sns\n",
    "%matplotlib inline"
   ]
  },
  {
   "cell_type": "code",
   "execution_count": null,
   "metadata": {},
   "outputs": [],
   "source": [
    "fuel_econ = pd.read_csv('fuel-econ.csv')\n",
    "\n",
    "sedan_classes = ['Minicompact Cars', 'Subcompact Cars', 'Compact Cars', 'Midsize Cars', 'Large Cars']\n",
    "\n",
    "vclasses = pd.api.types.CategoricalDtype(ordered = True, categories = sedan_classes)\n",
    "fuel_econ['VClass'] = fuel_econ['VClass'].astype(vclasses);\n",
    "\n",
    "fuel_econ['trans_type'] = fuel_econ['trans'].apply(lambda x: x.split()[0])"
   ]
  },
  {
   "cell_type": "markdown",
   "metadata": {},
   "source": [
    "### Examples of Visualization with Non-Positional Encodings for Third Variables"
   ]
  },
  {
   "cell_type": "code",
   "execution_count": null,
   "metadata": {},
   "outputs": [],
   "source": [
    "np.random.seed(2018)\n",
    "sample = np.random.choice(fuel_econ.shape[0], 200, replace = False)\n",
    "fuel_econ_subset = fuel_econ.loc[sample]"
   ]
  },
  {
   "cell_type": "code",
   "execution_count": null,
   "metadata": {},
   "outputs": [],
   "source": [
    "sns.regplot(data = fuel_econ_subset, x = 'displ', y = 'comb', x_jitter = 0.04, fit_reg = False);\n",
    "plt.xlabel('Displacement')\n",
    "plt.ylabel('Combined Fuel Eff. (mpg)');"
   ]
  },
  {
   "cell_type": "code",
   "execution_count": null,
   "metadata": {},
   "outputs": [],
   "source": [
    "ttype_markers = [['Automatic', 'o'], \n",
    "                  ['Manual', '^']]\n",
    "\n",
    "for ttype, marker in ttype_markers:\n",
    "    plot_data = fuel_econ_subset.loc[fuel_econ_subset['trans_type'] == ttype]\n",
    "    sns.regplot(data = plot_data, x = 'displ', y = 'comb', x_jitter = 0.04, fit_reg = False,\n",
    "                marker = marker);\n",
    "plt.xlabel('Displacement')\n",
    "plt.ylabel('Combined Fuel Eff. (mpg)');"
   ]
  },
  {
   "cell_type": "code",
   "execution_count": null,
   "metadata": {},
   "outputs": [],
   "source": [
    "for ttype, marker in ttype_markers:\n",
    "    plot_data = fuel_econ_subset.loc[fuel_econ_subset['trans_type'] == ttype]\n",
    "    sns.regplot(data = plot_data, x = 'displ', y = 'comb', x_jitter = 0.04, fit_reg = False,\n",
    "                marker = marker);\n",
    "plt.xlabel('Displacement')\n",
    "plt.ylabel('Combined Fuel Eff. (mpg)');\n",
    "plt.legend(['Automatic', 'Manual']);"
   ]
  },
  {
   "cell_type": "code",
   "execution_count": null,
   "metadata": {},
   "outputs": [],
   "source": [
    "sns.regplot(data = fuel_econ_subset, x = 'displ', y = 'comb', x_jitter = 0.04, fit_reg = False,\n",
    "           scatter_kws = {'s' : fuel_econ_subset['co2']});\n",
    "plt.xlabel('Displacement')\n",
    "plt.ylabel('Combined Fuel Eff. (mpg)');"
   ]
  },
  {
   "cell_type": "code",
   "execution_count": null,
   "metadata": {},
   "outputs": [],
   "source": [
    "sns.regplot(data = fuel_econ_subset, x = 'displ', y = 'comb', x_jitter = 0.04, fit_reg = False,\n",
    "           scatter_kws = {'s' : fuel_econ_subset['co2']/2});\n",
    "plt.xlabel('Displacement')\n",
    "plt.ylabel('Combined Fuel Eff. (mpg)');"
   ]
  },
  {
   "cell_type": "code",
   "execution_count": null,
   "metadata": {},
   "outputs": [],
   "source": [
    "sns.regplot(data = fuel_econ_subset, x = 'displ', y = 'comb', x_jitter = 0.04, fit_reg = False,\n",
    "           scatter_kws = {'s' : fuel_econ_subset['co2']/2});\n",
    "plt.xlabel('Displacement')\n",
    "plt.ylabel('Combined Fuel Eff. (mpg)');\n",
    "\n",
    "base_color = sns.color_palette()[0]\n",
    "sizes = [200, 350, 500]\n",
    "legend_obj = []\n",
    "for s in sizes:\n",
    "    legend_obj.append(plt.scatter([],[], s = s/2, color = base_color))\n",
    "plt.legend(legend_obj, sizes, title = 'CO2 (g/mi)');"
   ]
  },
  {
   "cell_type": "markdown",
   "metadata": {},
   "source": [
    "### Examples of Using Color for Encoding"
   ]
  },
  {
   "cell_type": "code",
   "execution_count": null,
   "metadata": {},
   "outputs": [],
   "source": [
    "sns.regplot(data = fuel_econ_subset, x = 'displ', y = 'comb', x_jitter = 0.04, fit_reg = False);\n",
    "plt.xlabel('Displacement')\n",
    "plt.ylabel('Combined Fuel Eff. (mpg)');"
   ]
  },
  {
   "cell_type": "code",
   "execution_count": null,
   "metadata": {},
   "outputs": [],
   "source": [
    "g = sns.FacetGrid(data = fuel_econ_subset, hue = 'trans_type')\n",
    "g.map(sns.regplot, 'displ', 'comb', x_jitter = 0.04, fit_reg = False);\n",
    "plt.xlabel('Displacement')\n",
    "plt.ylabel('Combined Fuel Eff. (mpg)');"
   ]
  },
  {
   "cell_type": "code",
   "execution_count": null,
   "metadata": {},
   "outputs": [],
   "source": [
    "g = sns.FacetGrid(data = fuel_econ_subset, hue = 'trans_type',\n",
    "                 hue_order = ['Automatic', 'Manual'])\n",
    "g.map(sns.regplot, 'displ', 'comb', x_jitter = 0.04, fit_reg = False);\n",
    "plt.xlabel('Displacement')\n",
    "plt.ylabel('Combined Fuel Eff. (mpg)');"
   ]
  },
  {
   "cell_type": "code",
   "execution_count": null,
   "metadata": {},
   "outputs": [],
   "source": [
    "g = sns.FacetGrid(data = fuel_econ_subset, hue = 'trans_type',\n",
    "                 hue_order = ['Automatic', 'Manual'], height=4, aspect = 1.5)\n",
    "g.map(sns.regplot, 'displ', 'comb', x_jitter = 0.04, fit_reg = False);\n",
    "plt.xlabel('Displacement')\n",
    "plt.ylabel('Combined Fuel Eff. (mpg)');"
   ]
  },
  {
   "cell_type": "code",
   "execution_count": null,
   "metadata": {},
   "outputs": [],
   "source": [
    "g = sns.FacetGrid(data = fuel_econ_subset, hue = 'trans_type',\n",
    "                 hue_order = ['Automatic', 'Manual'], height=4, aspect = 1.5)\n",
    "g.map(sns.regplot, 'displ', 'comb', x_jitter = 0.04, fit_reg = False);\n",
    "g.add_legend()\n",
    "plt.xlabel('Displacement')\n",
    "plt.ylabel('Combined Fuel Eff. (mpg)');"
   ]
  },
  {
   "cell_type": "code",
   "execution_count": null,
   "metadata": {},
   "outputs": [],
   "source": [
    "g = sns.FacetGrid(data = fuel_econ_subset, hue = 'VClass',\n",
    "                 height=4, aspect = 1.5)\n",
    "g.map(sns.regplot, 'displ', 'comb', x_jitter = 0.04, fit_reg = False);\n",
    "g.add_legend()\n",
    "plt.xlabel('Displacement')\n",
    "plt.ylabel('Combined Fuel Eff. (mpg)');"
   ]
  },
  {
   "cell_type": "code",
   "execution_count": null,
   "metadata": {},
   "outputs": [],
   "source": [
    "g = sns.FacetGrid(data = fuel_econ_subset, hue = 'VClass',\n",
    "                 height=4, aspect = 1.5, palette = 'viridis_r')\n",
    "g.map(sns.regplot, 'displ', 'comb', x_jitter = 0.04, fit_reg = False);\n",
    "g.add_legend()\n",
    "plt.xlabel('Displacement')\n",
    "plt.ylabel('Combined Fuel Eff. (mpg)');"
   ]
  },
  {
   "cell_type": "code",
   "execution_count": null,
   "metadata": {},
   "outputs": [],
   "source": [
    "g = sns.FacetGrid(data = fuel_econ_subset, hue = 'co2',\n",
    "                 height=4, aspect = 1.5, palette = 'viridis_r')\n",
    "g.map(sns.regplot, 'displ', 'comb', x_jitter = 0.04, fit_reg = False);\n",
    "g.add_legend()\n",
    "plt.xlabel('Displacement')\n",
    "plt.ylabel('Combined Fuel Eff. (mpg)');"
   ]
  },
  {
   "cell_type": "code",
   "execution_count": null,
   "metadata": {},
   "outputs": [],
   "source": [
    "plt.scatter(data = fuel_econ_subset, x = 'displ', y = 'comb', c = 'co2', \n",
    "            cmap = 'viridis_r')\n",
    "plt.colorbar(label = 'CO2 (g/mi)')\n",
    "plt.xlabel('Displacement')\n",
    "plt.ylabel('Combined Fuel Eff. (mpg)');"
   ]
  },
  {
   "cell_type": "markdown",
   "metadata": {},
   "source": [
    "### Examples of Faceting"
   ]
  },
  {
   "cell_type": "code",
   "execution_count": null,
   "metadata": {},
   "outputs": [],
   "source": [
    "bins = np.arange(12, 58+2, 2)\n",
    "g = sns.FacetGrid(data = fuel_econ, col =  'VClass')\n",
    "g.map(plt.hist, 'comb', bins = bins);"
   ]
  },
  {
   "cell_type": "code",
   "execution_count": null,
   "metadata": {},
   "outputs": [],
   "source": [
    "g = sns.FacetGrid(data = fuel_econ, col =  'VClass')\n",
    "g.map(plt.scatter, 'displ', 'comb');"
   ]
  },
  {
   "cell_type": "code",
   "execution_count": null,
   "metadata": {},
   "outputs": [],
   "source": [
    "g = sns.FacetGrid(data = fuel_econ, col =  'VClass', row = 'trans_type')\n",
    "g.map(plt.scatter, 'displ', 'comb');"
   ]
  },
  {
   "cell_type": "code",
   "execution_count": null,
   "metadata": {},
   "outputs": [],
   "source": [
    "g = sns.FacetGrid(data = fuel_econ, col =  'VClass', row = 'trans_type', margin_titles = True)\n",
    "g.map(plt.scatter, 'displ', 'comb');"
   ]
  },
  {
   "cell_type": "markdown",
   "metadata": {},
   "source": [
    "### Examples of Other Adaptions of Bivariate Plots"
   ]
  },
  {
   "cell_type": "code",
   "execution_count": null,
   "metadata": {},
   "outputs": [],
   "source": [
    "sns.pointplot(data = fuel_econ, x = 'VClass', y = 'comb', ci = 'sd', linestyles = '');\n",
    "plt.xticks(rotation = 15)\n",
    "plt.ylabel('Ag. combined efficiency (mpg)');"
   ]
  },
  {
   "cell_type": "code",
   "execution_count": null,
   "metadata": {},
   "outputs": [],
   "source": [
    "sns.pointplot(data = fuel_econ, x = 'VClass', y = 'comb', ci = 'sd',\n",
    "              hue = 'trans_type', linestyles = '');\n",
    "plt.xticks(rotation = 15)\n",
    "plt.ylabel('Ag. combined efficiency (mpg)');"
   ]
  },
  {
   "cell_type": "code",
   "execution_count": null,
   "metadata": {},
   "outputs": [],
   "source": [
    "sns.pointplot(data = fuel_econ, x = 'VClass', y = 'comb', ci = 'sd',\n",
    "              hue = 'trans_type', linestyles = '', dodge = True);\n",
    "plt.xticks(rotation = 15)\n",
    "plt.ylabel('Ag. combined efficiency (mpg)');"
   ]
  },
  {
   "cell_type": "code",
   "execution_count": null,
   "metadata": {},
   "outputs": [],
   "source": [
    "sns.barplot(data = fuel_econ, x = 'VClass', y = 'comb', ci = 'sd',\n",
    "              hue = 'trans_type');\n",
    "plt.xticks(rotation = 15)\n",
    "plt.ylabel('Ag. combined efficiency (mpg)');"
   ]
  },
  {
   "cell_type": "code",
   "execution_count": null,
   "metadata": {},
   "outputs": [],
   "source": [
    "sns.boxplot(data = fuel_econ, x = 'VClass', y = 'comb', hue = 'trans_type');\n",
    "plt.xticks(rotation = 15)\n",
    "plt.ylabel('Ag. combined efficiency (mpg)');"
   ]
  },
  {
   "cell_type": "markdown",
   "metadata": {},
   "source": [
    "### Examples of Plot Matrices"
   ]
  },
  {
   "cell_type": "code",
   "execution_count": null,
   "metadata": {},
   "outputs": [],
   "source": [
    "pokemon = pd.read_csv('pokemon.csv')\n",
    "pokemon.head()"
   ]
  },
  {
   "cell_type": "code",
   "execution_count": null,
   "metadata": {},
   "outputs": [],
   "source": [
    "pd.plotting.scatter_matrix(pokemon[['hp','attack','defense','speed','special-attack',\n",
    "                                    'special-defense']], figsize = (12,12));"
   ]
  },
  {
   "cell_type": "code",
   "execution_count": null,
   "metadata": {},
   "outputs": [],
   "source": [
    "pkmn_stats = ['hp','attack','defense','speed','special-attack','special-defense']\n",
    "g = sns.PairGrid(data = pokemon, vars = pkmn_stats);"
   ]
  },
  {
   "cell_type": "code",
   "execution_count": null,
   "metadata": {},
   "outputs": [],
   "source": [
    "g = sns.PairGrid(data = pokemon, vars = pkmn_stats)\n",
    "g.map_offdiag(plt.scatter);\n",
    "g.map_diag(plt.hist);"
   ]
  },
  {
   "cell_type": "code",
   "execution_count": null,
   "metadata": {},
   "outputs": [],
   "source": [
    "sns.heatmap(pokemon[pkmn_stats].corr());"
   ]
  },
  {
   "cell_type": "code",
   "execution_count": null,
   "metadata": {},
   "outputs": [],
   "source": [
    "sns.heatmap(pokemon[pkmn_stats].corr(), cmap = 'rocket_r', annot = True, fmt = '.2f');"
   ]
  },
  {
   "cell_type": "code",
   "execution_count": null,
   "metadata": {},
   "outputs": [],
   "source": [
    "sns.heatmap(pokemon[pkmn_stats].corr(), cmap = 'rocket_r', annot = True, fmt = '.2f', vmin = 0);"
   ]
  }
 ],
 "metadata": {
  "kernelspec": {
   "display_name": "Python [conda env:root] *",
   "language": "python",
   "name": "conda-root-py"
  },
  "language_info": {
   "codemirror_mode": {
    "name": "ipython",
    "version": 3
   },
   "file_extension": ".py",
   "mimetype": "text/x-python",
   "name": "python",
   "nbconvert_exporter": "python",
   "pygments_lexer": "ipython3",
   "version": "3.7.3"
  }
 },
 "nbformat": 4,
 "nbformat_minor": 2
}
